{
 "cells": [
  {
   "cell_type": "code",
   "execution_count": 1,
   "metadata": {},
   "outputs": [],
   "source": [
    "from models.models import EdgeModel, NodeModel, BaseMPNN\n",
    "from param_graph.seq_to_net import seq_to_net\n",
    "import torch.nn as nn\n",
    "import torch\n",
    "import random\n",
    "\n",
    "torch.manual_seed(0)\n",
    "random.seed(0)"
   ]
  },
  {
   "cell_type": "code",
   "execution_count": 2,
   "metadata": {},
   "outputs": [],
   "source": [
    "mpnn = BaseMPNN(node_feat_dim=3, edge_feat_dim=6, node_hidden_dim=12, edge_hidden_dim=12)"
   ]
  },
  {
   "cell_type": "code",
   "execution_count": 3,
   "metadata": {},
   "outputs": [],
   "source": [
    "net1 = nn.Sequential(\n",
    "    nn.Linear(12, 24),\n",
    "    nn.BatchNorm1d(24),\n",
    "    nn.ReLU(),\n",
    "    nn.Linear(24, 24),\n",
    "    nn.BatchNorm1d(24),\n",
    "    nn.ReLU(),\n",
    "    nn.Linear(24, 12),\n",
    "    nn.BatchNorm1d(12),\n",
    "    nn.ReLU(),\n",
    "    nn.Linear(12, 1)\n",
    ")\n",
    "label1=.86\n",
    "\n",
    "net2 = nn.Sequential(\n",
    "    nn.Linear(12, 32),\n",
    "    nn.BatchNorm1d(32),\n",
    "    nn.ReLU(),\n",
    "    nn.Linear(32, 32),\n",
    "    nn.BatchNorm1d(32),\n",
    "    nn.ReLU(),\n",
    "    nn.Linear(32, 16),  \n",
    "    nn.BatchNorm1d(16),\n",
    "    nn.ReLU(),\n",
    "    nn.Linear(16, 1)\n",
    ")\n",
    "label2=.94\n",
    "\n",
    "graph_dataset = [[seq_to_net(net1), label1], [seq_to_net(net2), label2]]"
   ]
  },
  {
   "cell_type": "code",
   "execution_count": 4,
   "metadata": {},
   "outputs": [
    {
     "name": "stdout",
     "output_type": "stream",
     "text": [
      "Base MPNN forward\n",
      "x shape torch.Size([27, 3])\n",
      "edge index shape torch.Size([2, 128])\n",
      "edge attr shape torch.Size([128, 6])\n",
      "calling layer:  0\n",
      "called edge model\n",
      "edge forward src:  torch.Size([128, 3]) dst:  torch.Size([128, 3]) edge_attr:  torch.Size([128, 6])\n",
      "called node model, data shape:  torch.Size([27, 15])\n",
      "calling norm layers\n",
      "calling layer:  1\n",
      "called edge model\n",
      "edge forward src:  torch.Size([128, 12]) dst:  torch.Size([128, 12]) edge_attr:  torch.Size([128, 12])\n",
      "called node model, data shape:  torch.Size([27, 24])\n",
      "calling norm layers\n",
      "calling layer:  2\n",
      "called edge model\n",
      "edge forward src:  torch.Size([128, 12]) dst:  torch.Size([128, 12]) edge_attr:  torch.Size([128, 12])\n",
      "called node model, data shape:  torch.Size([27, 24])\n",
      "Node attr readout shape torch.Size([1, 12]) edge attr readout shape torch.Size([1, 12])\n",
      "tensor([[0.2587]], grad_fn=<AddmmBackward0>)\n"
     ]
    }
   ],
   "source": [
    "test_nn = nn.Sequential(\n",
    "    nn.Linear(3, 6),\n",
    "    nn.ReLU(),\n",
    "    nn.Linear(6, 12),\n",
    "    nn.ReLU(),\n",
    "    nn.Linear(12, 1)\n",
    ")\n",
    "\n",
    "test_graph = seq_to_net(test_nn)\n",
    "x, edge_index, edge_attr = test_graph.get_feature_tensors()\n",
    "print(mpnn(x, edge_index, edge_attr))\n",
    "\n",
    "# for graph, label in graph_dataset:\n",
    "#     node_features, edge_features, edge_indices = graph.get_feature_tensors()\n",
    "#     print(mpnn(node_features, edge_indices, edge_features))"
   ]
  }
 ],
 "metadata": {
  "kernelspec": {
   "display_name": "Python 3 (ipykernel)",
   "language": "python",
   "name": "python3"
  },
  "language_info": {
   "codemirror_mode": {
    "name": "ipython",
    "version": 3
   },
   "file_extension": ".py",
   "mimetype": "text/x-python",
   "name": "python",
   "nbconvert_exporter": "python",
   "pygments_lexer": "ipython3",
   "version": "3.11.7"
  }
 },
 "nbformat": 4,
 "nbformat_minor": 2
}
